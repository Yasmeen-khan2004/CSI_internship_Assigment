{
 "cells": [
  {
   "cell_type": "code",
   "execution_count": 26,
   "id": "278d8a47",
   "metadata": {},
   "outputs": [
    {
     "name": "stdout",
     "output_type": "stream",
     "text": [
      "Requirement already satisfied: scikit-learn in c:\\users\\dell\\appdata\\local\\programs\\python\\python310\\lib\\site-packages (1.6.1)"
     ]
    },
    {
     "name": "stderr",
     "output_type": "stream",
     "text": [
      "\n",
      "[notice] A new release of pip is available: 23.0.1 -> 25.1.1\n",
      "[notice] To update, run: python.exe -m pip install --upgrade pip\n"
     ]
    },
    {
     "name": "stdout",
     "output_type": "stream",
     "text": [
      "\n",
      "Requirement already satisfied: xgboost in c:\\users\\dell\\appdata\\local\\programs\\python\\python310\\lib\\site-packages (3.0.2)\n",
      "Requirement already satisfied: numpy>=1.19.5 in c:\\users\\dell\\appdata\\local\\programs\\python\\python310\\lib\\site-packages (from scikit-learn) (2.2.6)\n",
      "Requirement already satisfied: joblib>=1.2.0 in c:\\users\\dell\\appdata\\local\\programs\\python\\python310\\lib\\site-packages (from scikit-learn) (1.4.2)\n",
      "Requirement already satisfied: threadpoolctl>=3.1.0 in c:\\users\\dell\\appdata\\local\\programs\\python\\python310\\lib\\site-packages (from scikit-learn) (3.5.0)\n",
      "Requirement already satisfied: scipy>=1.6.0 in c:\\users\\dell\\appdata\\local\\programs\\python\\python310\\lib\\site-packages (from scikit-learn) (1.15.2)\n"
     ]
    }
   ],
   "source": [
    "!pip install scikit-learn xgboost\n"
   ]
  },
  {
   "cell_type": "code",
   "execution_count": 27,
   "id": "bd2f2f14",
   "metadata": {},
   "outputs": [],
   "source": [
    "import pandas as pd\n",
    "import numpy as np\n",
    "\n",
    "from sklearn.model_selection import train_test_split, GridSearchCV, RandomizedSearchCV\n",
    "from sklearn.metrics import mean_squared_error, mean_absolute_error, r2_score\n",
    "from sklearn.ensemble import RandomForestRegressor, GradientBoostingRegressor\n",
    "from xgboost import XGBRegressor"
   ]
  },
  {
   "cell_type": "code",
   "execution_count": 28,
   "id": "879194fe",
   "metadata": {},
   "outputs": [
    {
     "name": "stdout",
     "output_type": "stream",
     "text": [
      "(1460, 81)\n",
      "Index(['Id', 'MSSubClass', 'MSZoning', 'LotFrontage', 'LotArea', 'Street',\n",
      "       'Alley', 'LotShape', 'LandContour', 'Utilities', 'LotConfig',\n",
      "       'LandSlope', 'Neighborhood', 'Condition1', 'Condition2', 'BldgType',\n",
      "       'HouseStyle', 'OverallQual', 'OverallCond', 'YearBuilt', 'YearRemodAdd',\n",
      "       'RoofStyle', 'RoofMatl', 'Exterior1st', 'Exterior2nd', 'MasVnrType',\n",
      "       'MasVnrArea', 'ExterQual', 'ExterCond', 'Foundation', 'BsmtQual',\n",
      "       'BsmtCond', 'BsmtExposure', 'BsmtFinType1', 'BsmtFinSF1',\n",
      "       'BsmtFinType2', 'BsmtFinSF2', 'BsmtUnfSF', 'TotalBsmtSF', 'Heating',\n",
      "       'HeatingQC', 'CentralAir', 'Electrical', '1stFlrSF', '2ndFlrSF',\n",
      "       'LowQualFinSF', 'GrLivArea', 'BsmtFullBath', 'BsmtHalfBath', 'FullBath',\n",
      "       'HalfBath', 'BedroomAbvGr', 'KitchenAbvGr', 'KitchenQual',\n",
      "       'TotRmsAbvGrd', 'Functional', 'Fireplaces', 'FireplaceQu', 'GarageType',\n",
      "       'GarageYrBlt', 'GarageFinish', 'GarageCars', 'GarageArea', 'GarageQual',\n",
      "       'GarageCond', 'PavedDrive', 'WoodDeckSF', 'OpenPorchSF',\n",
      "       'EnclosedPorch', '3SsnPorch', 'ScreenPorch', 'PoolArea', 'PoolQC',\n",
      "       'Fence', 'MiscFeature', 'MiscVal', 'MoSold', 'YrSold', 'SaleType',\n",
      "       'SaleCondition', 'SalePrice'],\n",
      "      dtype='object')\n"
     ]
    }
   ],
   "source": [
    "\n",
    "# 1️⃣ Load data\n",
    "train_df = pd.read_csv('train(1).csv')\n",
    "test_df = pd.read_csv('test(1).csv')\n",
    "\n",
    "# Check data\n",
    "print(train_df.shape)\n",
    "print(train_df.columns)"
   ]
  },
  {
   "cell_type": "code",
   "execution_count": 29,
   "id": "13f1fa29",
   "metadata": {},
   "outputs": [],
   "source": [
    "# 2️⃣ Separate features and target\n",
    "X = train_df.drop(['SalePrice', 'Id'], axis=1)\n",
    "y = train_df['SalePrice']"
   ]
  },
  {
   "cell_type": "code",
   "execution_count": 30,
   "id": "fd559572",
   "metadata": {},
   "outputs": [],
   "source": [
    "# 3️⃣ Handle categorical data (simple encoding for demo)\n",
    "X = pd.get_dummies(X)\n",
    "test_df = pd.get_dummies(test_df)"
   ]
  },
  {
   "cell_type": "code",
   "execution_count": 31,
   "id": "457d675b",
   "metadata": {},
   "outputs": [],
   "source": [
    "# Align train and test columns\n",
    "X, test_df = X.align(test_df, join='left', axis=1, fill_value=0)"
   ]
  },
  {
   "cell_type": "code",
   "execution_count": 32,
   "id": "ac6e3ff1",
   "metadata": {},
   "outputs": [],
   "source": [
    "# 4️⃣ Split train/test\n",
    "X_train, X_valid, y_train, y_valid = train_test_split(\n",
    "    X, y, test_size=0.2, random_state=42)"
   ]
  },
  {
   "cell_type": "code",
   "execution_count": 33,
   "id": "c74362fb",
   "metadata": {},
   "outputs": [],
   "source": [
    "# 5️⃣ Train multiple models and evaluate\n",
    "models = {\n",
    "    'Random Forest': RandomForestRegressor(random_state=42),\n",
    "    'Gradient Boosting': GradientBoostingRegressor(random_state=42),\n",
    "    'XGBoost': XGBRegressor(random_state=42, verbosity=0)\n",
    "}\n"
   ]
  },
  {
   "cell_type": "code",
   "execution_count": 34,
   "id": "b90b0185",
   "metadata": {},
   "outputs": [
    {
     "name": "stdout",
     "output_type": "stream",
     "text": [
      "X_train shape: (1168, 287)\n",
      "y_train shape: (1168,)\n",
      "y_train dtype: int64\n"
     ]
    }
   ],
   "source": [
    "# Check shapes\n",
    "print(\"X_train shape:\", X_train.shape)\n",
    "print(\"y_train shape:\", y_train.shape)\n",
    "\n",
    "# Check types\n",
    "print(\"y_train dtype:\", y_train.dtype)\n",
    "\n",
    "# Convert y_train if needed\n",
    "y_train = pd.to_numeric(y_train, errors='coerce')\n",
    "y_valid = pd.to_numeric(y_valid, errors='coerce')\n"
   ]
  },
  {
   "cell_type": "code",
   "execution_count": 35,
   "id": "42b9da5f",
   "metadata": {},
   "outputs": [
    {
     "name": "stdout",
     "output_type": "stream",
     "text": [
      "Number of NaNs in y_train: 0\n",
      "Number of NaNs in y_valid: 0\n"
     ]
    }
   ],
   "source": [
    "print(\"Number of NaNs in y_train:\", y_train.isnull().sum())\n",
    "print(\"Number of NaNs in y_valid:\", y_valid.isnull().sum())\n"
   ]
  },
  {
   "cell_type": "code",
   "execution_count": 36,
   "id": "0a6ac928",
   "metadata": {},
   "outputs": [],
   "source": [
    "# Fill numeric NaNs\n",
    "num_cols = X_train.select_dtypes(include=[np.number]).columns\n",
    "X_train[num_cols] = X_train[num_cols].fillna(X_train[num_cols].median())\n",
    "X_valid[num_cols] = X_valid[num_cols].fillna(X_train[num_cols].median())\n",
    "\n",
    "# Fill categorical NaNs (only if exist)\n",
    "obj_cols = X_train.select_dtypes(include=['object']).columns\n",
    "if len(obj_cols) > 0:\n",
    "    mode_values = X_train[obj_cols].mode().iloc[0]\n",
    "    X_train[obj_cols] = X_train[obj_cols].fillna(mode_values)\n",
    "    X_valid[obj_cols] = X_valid[obj_cols].fillna(mode_values)\n"
   ]
  },
  {
   "cell_type": "code",
   "execution_count": 37,
   "id": "5d178098",
   "metadata": {},
   "outputs": [
    {
     "name": "stdout",
     "output_type": "stream",
     "text": [
      "----- Random Forest -----\n",
      "RMSE: 29215.10\n",
      "MAE: 17622.33\n",
      "R^2: 0.8887\n",
      "\n",
      "----- Gradient Boosting -----\n",
      "RMSE: 27251.56\n",
      "MAE: 17117.23\n",
      "R^2: 0.9032\n",
      "\n",
      "----- XGBoost -----\n",
      "RMSE: 26173.45\n",
      "MAE: 16685.09\n",
      "R^2: 0.9107\n",
      "\n"
     ]
    }
   ],
   "source": [
    "from sklearn.metrics import mean_squared_error, mean_absolute_error, r2_score\n",
    "import numpy as np\n",
    "\n",
    "for name, model in models.items():\n",
    "    model.fit(X_train, y_train)\n",
    "    preds = model.predict(X_valid)\n",
    "    \n",
    "    rmse = np.sqrt(mean_squared_error(y_valid, preds))\n",
    "    mae = mean_absolute_error(y_valid, preds)\n",
    "    r2 = r2_score(y_valid, preds)\n",
    "    \n",
    "    print(f\"----- {name} -----\")\n",
    "    print(f\"RMSE: {rmse:.2f}\")\n",
    "    print(f\"MAE: {mae:.2f}\")\n",
    "    print(f\"R^2: {r2:.4f}\\n\")\n"
   ]
  },
  {
   "cell_type": "code",
   "execution_count": 38,
   "id": "a40956dd",
   "metadata": {},
   "outputs": [
    {
     "name": "stdout",
     "output_type": "stream",
     "text": [
      "Fitting 3 folds for each of 20 candidates, totalling 60 fits\n",
      "Best params: {'subsample': 0.6, 'n_estimators': 300, 'max_depth': 5, 'learning_rate': 0.1, 'colsample_bytree': 0.8}\n",
      "Best RMSE on CV: 26643.048828125\n"
     ]
    }
   ],
   "source": [
    "## Hyperparameter tuning (GridSearchCV / RandomizedSearchCV)\n",
    "from sklearn.model_selection import RandomizedSearchCV\n",
    "from xgboost import XGBRegressor\n",
    "\n",
    "# Define parameter grid\n",
    "param_dist = {\n",
    "    'n_estimators': [100, 200, 300, 400],\n",
    "    'max_depth': [3, 4, 5, 6, 7],\n",
    "    'learning_rate': [0.01, 0.05, 0.1, 0.2],\n",
    "    'subsample': [0.6, 0.8, 1.0],\n",
    "    'colsample_bytree': [0.6, 0.8, 1.0]\n",
    "}\n",
    "\n",
    "xgb = XGBRegressor(random_state=42)\n",
    "random_search = RandomizedSearchCV(\n",
    "    xgb, param_distributions=param_dist,\n",
    "    n_iter=20, scoring='neg_root_mean_squared_error',\n",
    "    cv=3, verbose=2, n_jobs=-1, random_state=42\n",
    ")\n",
    "\n",
    "random_search.fit(X_train, y_train)\n",
    "\n",
    "print(\"Best params:\", random_search.best_params_)\n",
    "print(\"Best RMSE on CV:\", -random_search.best_score_)\n"
   ]
  },
  {
   "cell_type": "code",
   "execution_count": 39,
   "id": "c4007521",
   "metadata": {},
   "outputs": [
    {
     "name": "stdout",
     "output_type": "stream",
     "text": [
      "Final tuned model RMSE: 25692.91\n",
      "Final tuned model MAE: 15391.57\n",
      "Final tuned model R^2: 0.9139\n"
     ]
    }
   ],
   "source": [
    "## Retrain the best XGBoost with best params\n",
    "best_xgb = random_search.best_estimator_\n",
    "best_xgb.fit(X_train, y_train)\n",
    "final_preds = best_xgb.predict(X_valid)\n",
    "\n",
    "from sklearn.metrics import mean_squared_error, mean_absolute_error, r2_score\n",
    "rmse = np.sqrt(mean_squared_error(y_valid, final_preds))\n",
    "mae = mean_absolute_error(y_valid, final_preds)\n",
    "r2 = r2_score(y_valid, final_preds)\n",
    "\n",
    "print(f\"Final tuned model RMSE: {rmse:.2f}\")\n",
    "print(f\"Final tuned model MAE: {mae:.2f}\")\n",
    "print(f\"Final tuned model R^2: {r2:.4f}\")\n"
   ]
  },
  {
   "cell_type": "code",
   "execution_count": 40,
   "id": "0ee2e9fa",
   "metadata": {},
   "outputs": [
    {
     "data": {
      "text/plain": [
       "['best_xgboost_model.pkl']"
      ]
     },
     "execution_count": 40,
     "metadata": {},
     "output_type": "execute_result"
    }
   ],
   "source": [
    "import joblib\n",
    "joblib.dump(best_xgb, 'best_xgboost_model.pkl')\n"
   ]
  },
  {
   "cell_type": "code",
   "execution_count": 41,
   "id": "2046d8a0",
   "metadata": {},
   "outputs": [
    {
     "name": "stdout",
     "output_type": "stream",
     "text": [
      "Accuracy: 0.928082191780822\n",
      "Precision: 0.9370629370629371\n",
      "Recall: 0.9178082191780822\n",
      "F1-score: 0.9273356401384083\n"
     ]
    }
   ],
   "source": [
    "# Suppose median of y_valid as threshold\n",
    "threshold = y_valid.median()\n",
    "\n",
    "# Convert to binary classes\n",
    "y_valid_class = (y_valid > threshold).astype(int)\n",
    "preds_class = (final_preds > threshold).astype(int)\n",
    "\n",
    "from sklearn.metrics import accuracy_score, precision_score, recall_score, f1_score\n",
    "\n",
    "print(\"Accuracy:\", accuracy_score(y_valid_class, preds_class))\n",
    "print(\"Precision:\", precision_score(y_valid_class, preds_class))\n",
    "print(\"Recall:\", recall_score(y_valid_class, preds_class))\n",
    "print(\"F1-score:\", f1_score(y_valid_class, preds_class))\n"
   ]
  },
  {
   "cell_type": "code",
   "execution_count": 42,
   "id": "5d954641",
   "metadata": {},
   "outputs": [
    {
     "name": "stdout",
     "output_type": "stream",
     "text": [
      "Classification metrics (using threshold = 154150.0):\n",
      "\n",
      "----- Random Forest -----\n",
      "Accuracy : 0.9212\n",
      "Precision: 0.9241\n",
      "Recall   : 0.9178\n",
      "F1-score : 0.9210\n",
      "\n",
      "----- Gradient Boosting -----\n",
      "Accuracy : 0.9315\n",
      "Precision: 0.9375\n",
      "Recall   : 0.9247\n",
      "F1-score : 0.9310\n",
      "\n",
      "----- XGBoost -----\n",
      "Accuracy : 0.9315\n",
      "Precision: 0.9375\n",
      "Recall   : 0.9247\n",
      "F1-score : 0.9310\n",
      "\n"
     ]
    }
   ],
   "source": [
    "from sklearn.metrics import accuracy_score, precision_score, recall_score, f1_score\n",
    "\n",
    "# Use median price in validation set as threshold\n",
    "threshold = y_valid.median()\n",
    "\n",
    "# Convert true values and predictions to classes: 1 if above threshold else 0\n",
    "y_valid_class = (y_valid > threshold).astype(int)\n",
    "\n",
    "print(f\"Classification metrics (using threshold = {threshold}):\")\n",
    "print()\n",
    "\n",
    "for name, model in models.items():\n",
    "    # Predict continuous prices\n",
    "    preds = model.predict(X_valid)\n",
    "    \n",
    "    # Convert predictions to classes\n",
    "    preds_class = (preds > threshold).astype(int)\n",
    "    \n",
    "    acc = accuracy_score(y_valid_class, preds_class)\n",
    "    prec = precision_score(y_valid_class, preds_class)\n",
    "    rec = recall_score(y_valid_class, preds_class)\n",
    "    f1 = f1_score(y_valid_class, preds_class)\n",
    "    \n",
    "    print(f\"----- {name} -----\")\n",
    "    print(f\"Accuracy : {acc:.4f}\")\n",
    "    print(f\"Precision: {prec:.4f}\")\n",
    "    print(f\"Recall   : {rec:.4f}\")\n",
    "    print(f\"F1-score : {f1:.4f}\")\n",
    "    print()\n"
   ]
  },
  {
   "cell_type": "code",
   "execution_count": null,
   "id": "308b38d2",
   "metadata": {},
   "outputs": [],
   "source": []
  },
  {
   "cell_type": "code",
   "execution_count": null,
   "id": "29c6c3c0",
   "metadata": {},
   "outputs": [],
   "source": []
  },
  {
   "cell_type": "code",
   "execution_count": null,
   "id": "cb140862",
   "metadata": {},
   "outputs": [],
   "source": []
  }
 ],
 "metadata": {
  "kernelspec": {
   "display_name": "Python 3",
   "language": "python",
   "name": "python3"
  },
  "language_info": {
   "codemirror_mode": {
    "name": "ipython",
    "version": 3
   },
   "file_extension": ".py",
   "mimetype": "text/x-python",
   "name": "python",
   "nbconvert_exporter": "python",
   "pygments_lexer": "ipython3",
   "version": "3.10.11"
  }
 },
 "nbformat": 4,
 "nbformat_minor": 5
}
